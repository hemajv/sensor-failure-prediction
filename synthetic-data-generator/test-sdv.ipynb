{
 "cells": [
  {
   "cell_type": "code",
   "execution_count": null,
   "id": "21789aac-201b-4fce-955a-2e8768644c9f",
   "metadata": {
    "tags": []
   },
   "outputs": [],
   "source": [
    "!pip install sdv"
   ]
  },
  {
   "cell_type": "code",
   "execution_count": 2,
   "id": "64498187-57e8-4f62-b597-d4d94950859e",
   "metadata": {},
   "outputs": [],
   "source": [
    "from sdv.timeseries import PAR\n",
    "from sdv.demo import load_timeseries_demo\n",
    "import pandas as pd"
   ]
  },
  {
   "cell_type": "code",
   "execution_count": 3,
   "id": "551c0bc8-b486-4ea9-98b3-a89d22467216",
   "metadata": {},
   "outputs": [],
   "source": [
    "demo_data = load_timeseries_demo()\n",
    "len(demo_data)\n",
    "entity_columns = ['Symbol']\n",
    "context_columns = ['MarketCap', 'Sector', 'Industry']\n",
    "sequence_index = 'Date'"
   ]
  },
  {
   "cell_type": "code",
   "execution_count": 4,
   "id": "974416da-417f-46bc-9eb5-54088a473555",
   "metadata": {},
   "outputs": [],
   "source": [
    "model = PAR(   entity_columns=entity_columns, context_columns=context_columns,\n",
    "            sequence_index=sequence_index, verbose=True)"
   ]
  },
  {
   "cell_type": "code",
   "execution_count": 5,
   "id": "077591ad-27dd-4ff3-b5c7-9840fc7b68fa",
   "metadata": {},
   "outputs": [],
   "source": [
    "# model.fit(demo_data)"
   ]
  },
  {
   "cell_type": "markdown",
   "id": "cc1fea02-9461-41f3-8a1a-babe6b901f5c",
   "metadata": {},
   "source": [
    "https://sdv.dev/SDV/user_guides/timeseries/par.html\n",
    "\n",
    "looks perfect for our uses - depending on the shape/attributes of the kaggle dataset!\n",
    "\n",
    "will take a stab at fitting a model on our data when I have it!"
   ]
  },
  {
   "cell_type": "code",
   "execution_count": 6,
   "id": "e35a9d17-5806-4e14-87b9-0d9423a59cfb",
   "metadata": {},
   "outputs": [],
   "source": [
    "sensor = pd.read_csv('sensor.csv')"
   ]
  },
  {
   "cell_type": "code",
   "execution_count": null,
   "id": "45836b72-6df7-401c-aa83-42f3e275fdf4",
   "metadata": {},
   "outputs": [],
   "source": [
    "sensor.head()"
   ]
  },
  {
   "cell_type": "code",
   "execution_count": 8,
   "id": "7554e52c-f45a-4c03-a254-261873e10cfe",
   "metadata": {},
   "outputs": [],
   "source": [
    "# only keeping cols w high var in pca analysis.\n",
    "data = sensor[['timestamp', 'sensor_25', 'sensor_11', 'sensor_36', 'sensor_34']]"
   ]
  },
  {
   "cell_type": "code",
   "execution_count": null,
   "id": "62fe921a-81dc-489f-88bb-04f16b42307e",
   "metadata": {},
   "outputs": [],
   "source": [
    "print(data.dtypes)"
   ]
  },
  {
   "cell_type": "code",
   "execution_count": null,
   "id": "644f7e0d-c7a1-4718-b286-be2098526af5",
   "metadata": {},
   "outputs": [],
   "source": [
    "data['timestamp']= pd.to_datetime(data['timestamp'])\n",
    "print(data.dtypes)"
   ]
  },
  {
   "cell_type": "code",
   "execution_count": 11,
   "id": "393aef0c-2970-4466-987f-88f0b7cf20cd",
   "metadata": {},
   "outputs": [
    {
     "data": {
      "text/html": [
       "<div>\n",
       "<style scoped>\n",
       "    .dataframe tbody tr th:only-of-type {\n",
       "        vertical-align: middle;\n",
       "    }\n",
       "\n",
       "    .dataframe tbody tr th {\n",
       "        vertical-align: top;\n",
       "    }\n",
       "\n",
       "    .dataframe thead th {\n",
       "        text-align: right;\n",
       "    }\n",
       "</style>\n",
       "<table border=\"1\" class=\"dataframe\">\n",
       "  <thead>\n",
       "    <tr style=\"text-align: right;\">\n",
       "      <th></th>\n",
       "      <th>timestamp</th>\n",
       "      <th>sensor_25</th>\n",
       "      <th>sensor_11</th>\n",
       "      <th>sensor_36</th>\n",
       "      <th>sensor_34</th>\n",
       "    </tr>\n",
       "  </thead>\n",
       "  <tbody>\n",
       "    <tr>\n",
       "      <th>0</th>\n",
       "      <td>2018-04-01 00:00:00</td>\n",
       "      <td>741.7151</td>\n",
       "      <td>47.52422</td>\n",
       "      <td>195.0655</td>\n",
       "      <td>171.9375</td>\n",
       "    </tr>\n",
       "    <tr>\n",
       "      <th>1</th>\n",
       "      <td>2018-04-01 00:01:00</td>\n",
       "      <td>741.7151</td>\n",
       "      <td>47.52422</td>\n",
       "      <td>195.0655</td>\n",
       "      <td>171.9375</td>\n",
       "    </tr>\n",
       "    <tr>\n",
       "      <th>2</th>\n",
       "      <td>2018-04-01 00:02:00</td>\n",
       "      <td>740.8031</td>\n",
       "      <td>48.17723</td>\n",
       "      <td>200.9694</td>\n",
       "      <td>169.9820</td>\n",
       "    </tr>\n",
       "    <tr>\n",
       "      <th>3</th>\n",
       "      <td>2018-04-01 00:03:00</td>\n",
       "      <td>739.2722</td>\n",
       "      <td>48.65607</td>\n",
       "      <td>193.1689</td>\n",
       "      <td>166.4987</td>\n",
       "    </tr>\n",
       "    <tr>\n",
       "      <th>4</th>\n",
       "      <td>2018-04-01 00:04:00</td>\n",
       "      <td>737.6033</td>\n",
       "      <td>49.06298</td>\n",
       "      <td>193.8770</td>\n",
       "      <td>164.7498</td>\n",
       "    </tr>\n",
       "  </tbody>\n",
       "</table>\n",
       "</div>"
      ],
      "text/plain": [
       "            timestamp  sensor_25  sensor_11  sensor_36  sensor_34\n",
       "0 2018-04-01 00:00:00   741.7151   47.52422   195.0655   171.9375\n",
       "1 2018-04-01 00:01:00   741.7151   47.52422   195.0655   171.9375\n",
       "2 2018-04-01 00:02:00   740.8031   48.17723   200.9694   169.9820\n",
       "3 2018-04-01 00:03:00   739.2722   48.65607   193.1689   166.4987\n",
       "4 2018-04-01 00:04:00   737.6033   49.06298   193.8770   164.7498"
      ]
     },
     "execution_count": 11,
     "metadata": {},
     "output_type": "execute_result"
    }
   ],
   "source": [
    "data.head()"
   ]
  },
  {
   "cell_type": "code",
   "execution_count": 12,
   "id": "07cc51bb-53cc-4cba-908d-7872a42f0fdb",
   "metadata": {},
   "outputs": [],
   "source": [
    "one_k_rows = data.head(1000)"
   ]
  },
  {
   "cell_type": "code",
   "execution_count": 13,
   "id": "19acdaae-bd22-4091-82d8-111de2276e43",
   "metadata": {},
   "outputs": [],
   "source": [
    "sequence_index = 'timestamp'\n",
    "model = PAR(sequence_index = sequence_index, verbose=True)"
   ]
  },
  {
   "cell_type": "code",
   "execution_count": 14,
   "id": "c4ad5043-8ec3-4754-86a4-2953faca0036",
   "metadata": {},
   "outputs": [
    {
     "name": "stdout",
     "output_type": "stream",
     "text": [
      "PARModel(epochs=128, sample_size=1, cuda='cpu', verbose=True) instance created\n"
     ]
    },
    {
     "name": "stderr",
     "output_type": "stream",
     "text": [
      "Epoch 128 | Loss -548.5731201171875: 100%|██████████| 128/128 [04:20<00:00,  2.04s/it] \n"
     ]
    }
   ],
   "source": [
    "model.fit(one_k_rows)"
   ]
  },
  {
   "cell_type": "code",
   "execution_count": 15,
   "id": "7d2e9ebc-28d4-4929-b858-5323698ed916",
   "metadata": {},
   "outputs": [
    {
     "name": "stderr",
     "output_type": "stream",
     "text": [
      "100%|██████████| 1/1 [00:59<00:00, 59.25s/it]\n"
     ]
    }
   ],
   "source": [
    "sample = model.sample(1)"
   ]
  },
  {
   "cell_type": "code",
   "execution_count": 16,
   "id": "b0c76dc6-3083-4ae8-9ae8-ec78bc91da1f",
   "metadata": {},
   "outputs": [
    {
     "data": {
      "text/plain": [
       "<AxesSubplot:xlabel='timestamp'>"
      ]
     },
     "execution_count": 16,
     "metadata": {},
     "output_type": "execute_result"
    },
    {
     "data": {
      "image/png": "[encoded data removed]",
      "text/plain": [
       "<Figure size 432x288 with 1 Axes>"
      ]
     },
     "metadata": {
      "needs_background": "light"
     },
     "output_type": "display_data"
    }
   ],
   "source": [
    "import matplotlib.pyplot as plt\n",
    "\n",
    "\n",
    "one_k_rows.set_index('timestamp').plot()"
   ]
  },
  {
   "cell_type": "code",
   "execution_count": 17,
   "id": "8b1e346b-bcb9-4ec3-9798-704740c88ff2",
   "metadata": {},
   "outputs": [
    {
     "data": {
      "text/plain": [
       "<AxesSubplot:xlabel='timestamp'>"
      ]
     },
     "execution_count": 17,
     "metadata": {},
     "output_type": "execute_result"
    },
    {
     "data": {
      "image/png": "[encoded data removed]",
      "text/plain": [
       "<Figure size 432x288 with 1 Axes>"
      ]
     },
     "metadata": {
      "needs_background": "light"
     },
     "output_type": "display_data"
    }
   ],
   "source": [
    "sample.set_index('timestamp').plot()"
   ]
  },
  {
   "cell_type": "markdown",
   "id": "cac5f009-f07d-4f9e-8dad-4bd566e99dab",
   "metadata": {},
   "source": [
    "# INITIAL TAKEAWAYS:\n",
    "\n",
    "- Fitting a model on cpu takes a lot of time - even for just 1,000 rows out of 200,000 rows of data.\n",
    "  - ideally would like to try on GPU to see how much that helps as it's an option with this library.\n",
    "\n",
    "\n",
    "- for that model, it appears on first glance that the variance in our sample is not really too similar to our true data. would need to do more testing to determine that."
   ]
  }
 ],
 "metadata": {
  "kernelspec": {
   "display_name": "Python 3 (ipykernel)",
   "language": "python",
   "name": "python3"
  },
  "language_info": {
   "codemirror_mode": {
    "name": "ipython",
    "version": 3
   },
   "file_extension": ".py",
   "mimetype": "text/x-python",
   "name": "python",
   "nbconvert_exporter": "python",
   "pygments_lexer": "ipython3",
   "version": "3.8.8"
  }
 },
 "nbformat": 4,
 "nbformat_minor": 5
}
