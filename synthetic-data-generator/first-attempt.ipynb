{
 "cells": [
  {
   "cell_type": "code",
   "execution_count": null,
   "id": "21789aac-201b-4fce-955a-2e8768644c9f",
   "metadata": {
    "tags": []
   },
   "outputs": [],
   "source": [
    "!pip install sdv"
   ]
  },
  {
   "cell_type": "code",
   "execution_count": null,
   "id": "64498187-57e8-4f62-b597-d4d94950859e",
   "metadata": {},
   "outputs": [],
   "source": [
    "import sdv"
   ]
  },
  {
   "cell_type": "markdown",
   "id": "cc1fea02-9461-41f3-8a1a-babe6b901f5c",
   "metadata": {},
   "source": [
    "https://sdv.dev/SDV/user_guides/timeseries/par.html\n",
    "\n",
    "looks perfect for our uses - depending on the shape/attributes of the kaggle dataset!\n",
    "\n",
    "will take a stab at fitting a model on our data when I have it!"
   ]
  }
 ],
 "metadata": {
  "kernelspec": {
   "display_name": "Python 3 (ipykernel)",
   "language": "python",
   "name": "python3"
  },
  "language_info": {
   "codemirror_mode": {
    "name": "ipython",
    "version": 3
   },
   "file_extension": ".py",
   "mimetype": "text/x-python",
   "name": "python",
   "nbconvert_exporter": "python",
   "pygments_lexer": "ipython3",
   "version": "3.8.8"
  }
 },
 "nbformat": 4,
 "nbformat_minor": 5
}
