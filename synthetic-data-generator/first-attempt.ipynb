{
 "cells": [
  {
   "cell_type": "code",
   "execution_count": 1,
   "id": "21789aac-201b-4fce-955a-2e8768644c9f",
   "metadata": {
    "collapsed": true,
    "jupyter": {
     "outputs_hidden": true
    },
    "tags": []
   },
   "outputs": [
    {
     "name": "stdout",
     "output_type": "stream",
     "text": [
      "Collecting sdv\n",
      "  Downloading sdv-0.15.0-py2.py3-none-any.whl (102 kB)\n",
      "     |████████████████████████████████| 102 kB 33.1 MB/s           \n",
      "\u001b[?25hCollecting deepecho<0.4,>=0.3.0.post1\n",
      "  Downloading deepecho-0.3.0.post1-py2.py3-none-any.whl (26 kB)\n",
      "Collecting sdmetrics<0.6,>=0.5.0\n",
      "  Downloading sdmetrics-0.5.0-py2.py3-none-any.whl (98 kB)\n",
      "     |████████████████████████████████| 98 kB 125.2 MB/s            \n",
      "\u001b[?25hCollecting numpy<2,>=1.20.0\n",
      "  Downloading numpy-1.23.0-cp38-cp38-manylinux_2_17_x86_64.manylinux2014_x86_64.whl (17.1 MB)\n",
      "     |████████████████████████████████| 17.1 MB 126.7 MB/s            \n",
      "\u001b[?25hCollecting copulas<0.8,>=0.7.0\n",
      "  Downloading copulas-0.7.0-py2.py3-none-any.whl (53 kB)\n",
      "     |████████████████████████████████| 53 kB 77.6 MB/s             \n",
      "\u001b[?25hRequirement already satisfied: tqdm<5,>=4.15 in /opt/app-root/lib/python3.8/site-packages (from sdv) (4.62.3)\n",
      "Collecting graphviz<1,>=0.13.2\n",
      "  Downloading graphviz-0.20-py3-none-any.whl (46 kB)\n",
      "     |████████████████████████████████| 46 kB 99.7 MB/s             \n",
      "\u001b[?25hCollecting ctgan<0.6,>=0.5.1\n",
      "  Downloading ctgan-0.5.1-py2.py3-none-any.whl (24 kB)\n",
      "Collecting Faker<10,>=3.0.0\n",
      "  Downloading Faker-9.9.1-py3-none-any.whl (1.2 MB)\n",
      "     |████████████████████████████████| 1.2 MB 119.7 MB/s            \n",
      "\u001b[?25hCollecting rdt<0.7,>=0.6.2\n",
      "  Downloading rdt-0.6.4-py2.py3-none-any.whl (45 kB)\n",
      "     |████████████████████████████████| 45 kB 94.4 MB/s             \n",
      "\u001b[?25hRequirement already satisfied: pandas<2,>=1.1.3 in /opt/app-root/lib/python3.8/site-packages (from sdv) (1.2.4)\n",
      "Requirement already satisfied: matplotlib<4,>=3.4.0 in /opt/app-root/lib/python3.8/site-packages (from copulas<0.8,>=0.7.0->sdv) (3.4.1)\n",
      "Requirement already satisfied: scipy<2,>=1.5.4 in /opt/app-root/lib/python3.8/site-packages (from copulas<0.8,>=0.7.0->sdv) (1.6.2)\n",
      "Collecting torch<2,>=1.8.0\n",
      "  Downloading torch-1.11.0-cp38-cp38-manylinux1_x86_64.whl (750.6 MB)\n",
      "     |██████████████                  | 326.0 MB 154.0 MB/s eta 0:00:03"
     ]
    },
    {
     "name": "stderr",
     "output_type": "stream",
     "text": [
      "IOPub data rate exceeded.\n",
      "The Jupyter server will temporarily stop sending output\n",
      "to the client in order to avoid crashing it.\n",
      "To change this limit, set the config variable\n",
      "`--ServerApp.iopub_data_rate_limit`.\n",
      "\n",
      "Current values:\n",
      "ServerApp.iopub_data_rate_limit=1000000.0 (bytes/sec)\n",
      "ServerApp.rate_limit_window=3.0 (secs)\n",
      "\n"
     ]
    },
    {
     "name": "stdout",
     "output_type": "stream",
     "text": [
      "     |█████████████████████████████   | 681.8 MB 177.1 MB/s eta 0:00:01"
     ]
    },
    {
     "name": "stderr",
     "output_type": "stream",
     "text": [
      "IOPub data rate exceeded.\n",
      "The Jupyter server will temporarily stop sending output\n",
      "to the client in order to avoid crashing it.\n",
      "To change this limit, set the config variable\n",
      "`--ServerApp.iopub_data_rate_limit`.\n",
      "\n",
      "Current values:\n",
      "ServerApp.iopub_data_rate_limit=1000000.0 (bytes/sec)\n",
      "ServerApp.rate_limit_window=3.0 (secs)\n",
      "\n"
     ]
    },
    {
     "name": "stdout",
     "output_type": "stream",
     "text": [
      "     |████████████████████████████████| 750.6 MB 177.1 MB/s            \n",
      "\u001b[?25hCollecting torchvision<1,>=0.9.0\n",
      "  Downloading torchvision-0.12.0-cp38-cp38-manylinux1_x86_64.whl (21.0 MB)\n",
      "     |████████████████████████████████| 21.0 MB 118.4 MB/s            \n",
      "\u001b[?25hRequirement already satisfied: packaging<22,>=20 in /opt/app-root/lib/python3.8/site-packages (from ctgan<0.6,>=0.5.1->sdv) (21.3)\n",
      "Requirement already satisfied: scikit-learn<2,>=0.24 in /opt/app-root/lib/python3.8/site-packages (from ctgan<0.6,>=0.5.1->sdv) (0.24.1)\n",
      "Collecting text-unidecode==1.3\n",
      "  Downloading text_unidecode-1.3-py2.py3-none-any.whl (78 kB)\n",
      "     |████████████████████████████████| 78 kB 118.0 MB/s            \n",
      "\u001b[?25hRequirement already satisfied: python-dateutil>=2.4 in /opt/app-root/lib/python3.8/site-packages (from Faker<10,>=3.0.0->sdv) (2.8.2)\n",
      "Requirement already satisfied: pytz>=2017.3 in /opt/app-root/lib/python3.8/site-packages (from pandas<2,>=1.1.3->sdv) (2021.3)\n",
      "Collecting pyyaml<6,>=5.4.1\n",
      "  Downloading PyYAML-5.4.1-cp38-cp38-manylinux1_x86_64.whl (662 kB)\n",
      "     |████████████████████████████████| 662 kB 134.1 MB/s            \n",
      "\u001b[?25hRequirement already satisfied: psutil<6,>=5.7 in /opt/app-root/lib/python3.8/site-packages (from rdt<0.7,>=0.6.2->sdv) (5.9.0)\n",
      "Collecting pyts<0.13.0,>=0.12.0\n",
      "  Downloading pyts-0.12.0-py3-none-any.whl (2.5 MB)\n",
      "     |████████████████████████████████| 2.5 MB 119.8 MB/s            \n",
      "\u001b[?25hRequirement already satisfied: kiwisolver>=1.0.1 in /opt/app-root/lib/python3.8/site-packages (from matplotlib<4,>=3.4.0->copulas<0.8,>=0.7.0->sdv) (1.3.2)\n",
      "Requirement already satisfied: pillow>=6.2.0 in /opt/app-root/lib/python3.8/site-packages (from matplotlib<4,>=3.4.0->copulas<0.8,>=0.7.0->sdv) (9.0.0)\n",
      "Requirement already satisfied: cycler>=0.10 in /opt/app-root/lib/python3.8/site-packages (from matplotlib<4,>=3.4.0->copulas<0.8,>=0.7.0->sdv) (0.11.0)\n",
      "Requirement already satisfied: pyparsing>=2.2.1 in /opt/app-root/lib/python3.8/site-packages (from matplotlib<4,>=3.4.0->copulas<0.8,>=0.7.0->sdv) (3.0.6)\n",
      "Requirement already satisfied: six>=1.5 in /opt/app-root/lib/python3.8/site-packages (from python-dateutil>=2.4->Faker<10,>=3.0.0->sdv) (1.16.0)\n",
      "Requirement already satisfied: joblib>=0.12 in /opt/app-root/lib/python3.8/site-packages (from pyts<0.13.0,>=0.12.0->sdmetrics<0.6,>=0.5.0->sdv) (1.1.0)\n",
      "Collecting numba>=0.48.0\n",
      "  Downloading numba-0.55.2-cp38-cp38-manylinux2014_x86_64.manylinux_2_17_x86_64.whl (3.4 MB)\n",
      "     |████████████████████████████████| 3.4 MB 127.0 MB/s            \n",
      "\u001b[?25hRequirement already satisfied: threadpoolctl>=2.0.0 in /opt/app-root/lib/python3.8/site-packages (from scikit-learn<2,>=0.24->ctgan<0.6,>=0.5.1->sdv) (3.0.0)\n",
      "Collecting numpy<2,>=1.20.0\n",
      "  Downloading numpy-1.22.4-cp38-cp38-manylinux_2_17_x86_64.manylinux2014_x86_64.whl (16.9 MB)\n",
      "     |████████████████████████████████| 16.9 MB 122.2 MB/s            \n",
      "\u001b[?25hRequirement already satisfied: typing-extensions in /opt/app-root/lib/python3.8/site-packages (from torch<2,>=1.8.0->ctgan<0.6,>=0.5.1->sdv) (4.0.1)\n",
      "Requirement already satisfied: requests in /opt/app-root/lib/python3.8/site-packages (from torchvision<1,>=0.9.0->ctgan<0.6,>=0.5.1->sdv) (2.27.1)\n",
      "Requirement already satisfied: setuptools in /opt/app-root/lib/python3.8/site-packages (from numba>=0.48.0->pyts<0.13.0,>=0.12.0->sdmetrics<0.6,>=0.5.0->sdv) (60.5.0)\n",
      "Collecting llvmlite<0.39,>=0.38.0rc1\n",
      "  Downloading llvmlite-0.38.1-cp38-cp38-manylinux_2_17_x86_64.manylinux2014_x86_64.whl (34.5 MB)\n",
      "     |████████████████████████████████| 34.5 MB 119.2 MB/s            \n",
      "\u001b[?25hRequirement already satisfied: idna<4,>=2.5 in /opt/app-root/lib/python3.8/site-packages (from requests->torchvision<1,>=0.9.0->ctgan<0.6,>=0.5.1->sdv) (3.3)\n",
      "Requirement already satisfied: charset-normalizer~=2.0.0 in /opt/app-root/lib/python3.8/site-packages (from requests->torchvision<1,>=0.9.0->ctgan<0.6,>=0.5.1->sdv) (2.0.10)\n",
      "Requirement already satisfied: certifi>=2017.4.17 in /opt/app-root/lib/python3.8/site-packages (from requests->torchvision<1,>=0.9.0->ctgan<0.6,>=0.5.1->sdv) (2021.10.8)\n",
      "Requirement already satisfied: urllib3<1.27,>=1.21.1 in /opt/app-root/lib/python3.8/site-packages (from requests->torchvision<1,>=0.9.0->ctgan<0.6,>=0.5.1->sdv) (1.26.8)\n",
      "Installing collected packages: numpy, llvmlite, torch, pyyaml, numba, torchvision, text-unidecode, rdt, pyts, copulas, sdmetrics, graphviz, Faker, deepecho, ctgan, sdv\n",
      "  Attempting uninstall: numpy\n",
      "    Found existing installation: numpy 1.19.2\n",
      "    Uninstalling numpy-1.19.2:\n",
      "      Successfully uninstalled numpy-1.19.2\n",
      "  Attempting uninstall: pyyaml\n",
      "    Found existing installation: PyYAML 6.0\n",
      "    Uninstalling PyYAML-6.0:\n",
      "      Successfully uninstalled PyYAML-6.0\n",
      "\u001b[31mERROR: pip's dependency resolver does not currently take into account all the packages that are installed. This behaviour is the source of the following dependency conflicts.\n",
      "elyra-server 2.2.4 requires jinja2<3.0,>=2.11, but you have jinja2 3.0.3 which is incompatible.\n",
      "elyra-server 2.2.4 requires jupyterlab-git==0.30.0, but you have jupyterlab-git 0.30.0b2 which is incompatible.\n",
      "elyra-server 2.2.4 requires nbconvert<6.0,>=5.6.1, but you have nbconvert 6.4.0 which is incompatible.\u001b[0m\n",
      "Successfully installed Faker-9.9.1 copulas-0.7.0 ctgan-0.5.1 deepecho-0.3.0.post1 graphviz-0.20 llvmlite-0.38.1 numba-0.55.2 numpy-1.22.4 pyts-0.12.0 pyyaml-5.4.1 rdt-0.6.4 sdmetrics-0.5.0 sdv-0.15.0 text-unidecode-1.3 torch-1.11.0 torchvision-0.12.0\n",
      "\u001b[33mWARNING: You are using pip version 21.3.1; however, version 22.1.2 is available.\n",
      "You should consider upgrading via the '/opt/app-root/bin/python3.8 -m pip install --upgrade pip' command.\u001b[0m\n"
     ]
    }
   ],
   "source": [
    "!pip install sdv"
   ]
  },
  {
   "cell_type": "code",
   "execution_count": 2,
   "id": "64498187-57e8-4f62-b597-d4d94950859e",
   "metadata": {},
   "outputs": [],
   "source": [
    "import sdv"
   ]
  },
  {
   "cell_type": "code",
   "execution_count": null,
   "id": "5c04e272-5954-47ba-a7b6-18f4e85d5ea3",
   "metadata": {},
   "outputs": [],
   "source": []
  }
 ],
 "metadata": {
  "kernelspec": {
   "display_name": "Python 3 (ipykernel)",
   "language": "python",
   "name": "python3"
  },
  "language_info": {
   "codemirror_mode": {
    "name": "ipython",
    "version": 3
   },
   "file_extension": ".py",
   "mimetype": "text/x-python",
   "name": "python",
   "nbconvert_exporter": "python",
   "pygments_lexer": "ipython3",
   "version": "3.8.8"
  }
 },
 "nbformat": 4,
 "nbformat_minor": 5
}
